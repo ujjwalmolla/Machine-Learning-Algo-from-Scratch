{
  "nbformat": 4,
  "nbformat_minor": 0,
  "metadata": {
    "colab": {
      "provenance": []
    },
    "kernelspec": {
      "name": "python3",
      "display_name": "Python 3"
    },
    "language_info": {
      "name": "python"
    }
  },
  "cells": [
    {
      "cell_type": "code",
      "execution_count": 16,
      "metadata": {
        "id": "VHvSHrGJrY8x"
      },
      "outputs": [],
      "source": [
        "import numpy as np\n",
        "\n",
        "def sigmoid(x):\n",
        "  return (1/(1+np.exp(-x)))\n",
        "\n",
        "class LogisticRegression():\n",
        "  def __init__(self,lr=0.001,n_iters = 1000):\n",
        "    self.lr = lr\n",
        "    self.n_iters = n_iters\n",
        "    self.weights = None\n",
        "    self.bias = None\n",
        "\n",
        "  def fit(self,X,y):\n",
        "    n_sample,n_feature = X.shape\n",
        "    self.weights = np.zeros(n_feature)\n",
        "    self.bias = 0\n",
        "    for _ in range(self.n_iters):\n",
        "      linear_pred = np.dot(X,self.weights)+self.bias\n",
        "      y_pred = sigmoid(linear_pred)\n",
        "      dw = (1/n_sample) * np.dot(X.T,(y_pred-y))\n",
        "      db = (1/n_sample) * np.sum(y_pred-y)\n",
        "\n",
        "      self.weights = self.weights - self.lr * dw\n",
        "      self.bias = self.bias - self.lr * db\n",
        "\n",
        "  def predict(self,X):\n",
        "    linear_pred = np.dot(X,self.weights)+self.bias\n",
        "    y_pred = sigmoid(linear_pred)\n",
        "\n",
        "    y_pred_level = [0 if y<=0.5 else 1 for y in y_pred]\n",
        "    return y_pred_level\n"
      ]
    },
    {
      "cell_type": "code",
      "source": [
        "import numpy as np\n",
        "import pandas as pd\n",
        "from sklearn.model_selection import train_test_split\n",
        "from sklearn import datasets\n",
        "import matplotlib.pyplot as plt\n",
        "\n",
        "df = datasets.load_breast_cancer()\n",
        "X,y = df.data ,df.target\n",
        "X_train,X_test,y_train,y_test = train_test_split(X,y,test_size = 0.2,random_state = 42)\n",
        "\n",
        "model = LogisticRegression(lr=0.01,n_iters = 1000)\n",
        "model.fit(X_train,y_train)\n",
        "y_pred = model.predict(X_test)\n",
        "\n",
        "def accuracy(y_pred,y_test):\n",
        "  return np.sum(y_pred == y_test)/len(y_test)\n",
        "accu = accuracy(y_pred,y_test)\n",
        "print(\"Accuracy: \",accu)\n"
      ],
      "metadata": {
        "colab": {
          "base_uri": "https://localhost:8080/"
        },
        "id": "dG7yk2zxuWSs",
        "outputId": "d5f51b62-a661-4334-fdb1-faeffa4f21b8"
      },
      "execution_count": 17,
      "outputs": [
        {
          "output_type": "stream",
          "name": "stdout",
          "text": [
            "Accuracy:  0.9473684210526315\n"
          ]
        },
        {
          "output_type": "stream",
          "name": "stderr",
          "text": [
            "<ipython-input-16-f712a6ae346b>:4: RuntimeWarning: overflow encountered in exp\n",
            "  return (1/(1+np.exp(-x)))\n"
          ]
        }
      ]
    },
    {
      "cell_type": "code",
      "source": [],
      "metadata": {
        "id": "IlW4u-0vvD6B"
      },
      "execution_count": 17,
      "outputs": []
    },
    {
      "cell_type": "code",
      "source": [],
      "metadata": {
        "id": "H6M_nss5vm2E"
      },
      "execution_count": null,
      "outputs": []
    }
  ]
}